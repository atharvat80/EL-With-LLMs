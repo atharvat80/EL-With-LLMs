{
 "cells": [
  {
   "cell_type": "code",
   "execution_count": 1,
   "metadata": {},
   "outputs": [],
   "source": [
    "import json\n",
    "import openai\n",
    "from pathlib import Path\n",
    "from tqdm.auto import tqdm\n",
    "from utils import get_tagged_context, get_neighboring_sentences"
   ]
  },
  {
   "cell_type": "code",
   "execution_count": 2,
   "metadata": {},
   "outputs": [
    {
     "data": {
      "text/plain": [
       "[WindowsPath('test-data/test_aida-b.jsonl'),\n",
       " WindowsPath('test-data/test_cweb.jsonl'),\n",
       " WindowsPath('test-data/test_reddit-comments.jsonl'),\n",
       " WindowsPath('test-data/test_reddit-posts.jsonl'),\n",
       " WindowsPath('test-data/test_shadowlinks-shadow.jsonl'),\n",
       " WindowsPath('test-data/test_shadowlinks-tail.jsonl'),\n",
       " WindowsPath('test-data/test_shadowlinks-top.jsonl'),\n",
       " WindowsPath('test-data/test_tweeki.jsonl'),\n",
       " WindowsPath('test-data/test_wned-wiki.jsonl')]"
      ]
     },
     "execution_count": 2,
     "metadata": {},
     "output_type": "execute_result"
    }
   ],
   "source": [
    "test_files = list(Path(\"test-data\").iterdir())\n",
    "test_files"
   ]
  },
  {
   "cell_type": "code",
   "execution_count": 5,
   "metadata": {},
   "outputs": [
    {
     "name": "stdout",
     "output_type": "stream",
     "text": [
      "test-data\\test_aida-b.jsonl\n"
     ]
    },
    {
     "data": {
      "application/vnd.jupyter.widget-view+json": {
       "model_id": "b3a34e1dbf844d69b36c31e5fd0b9c55",
       "version_major": 2,
       "version_minor": 0
      },
      "text/plain": [
       "0it [00:00, ?it/s]"
      ]
     },
     "metadata": {},
     "output_type": "display_data"
    },
    {
     "name": "stdout",
     "output_type": "stream",
     "text": [
      "4485\n",
      "('SOCCER - <a>JAPAN</a> GET LUCKY WIN , CHINA IN SURPRISE DEFEAT . Nadim Ladki AL-AIN , United Arab Emirates 1996-12-06 Japan began the defence of their Asian Cup title with a lucky 2-1 win against Syria in a Group C championship match on Friday .', 993546, 'Japan_national_football_team')\n",
      "('SOCCER - JAPAN GET LUCKY WIN , <a>CHINA</a> IN SURPRISE DEFEAT . Nadim Ladki AL-AIN , United Arab Emirates 1996-12-06 Japan began the defence of their Asian Cup title with a lucky 2-1 win against Syria in a Group C championship match on Friday .', 887850, 'China_national_football_team')\n",
      "('SOCCER - JAPAN GET LUCKY WIN , CHINA IN SURPRISE DEFEAT . Nadim Ladki <a>AL-AIN</a> , United Arab Emirates 1996-12-06 Japan began the defence of their Asian Cup title with a lucky 2-1 win against Syria in a Group C championship match on Friday . But China saw their luck desert them in the second match of the group , crashing to a surprise 2-0 defeat to newcomers Uzbekistan .', 212131, 'Al_Ain')\n",
      "('SOCCER - JAPAN GET LUCKY WIN , CHINA IN SURPRISE DEFEAT . Nadim Ladki AL-AIN , <a>United Arab Emirates</a> 1996-12-06 Japan began the defence of their Asian Cup title with a lucky 2-1 win against Syria in a Group C championship match on Friday . But China saw their luck desert them in the second match of the group , crashing to a surprise 2-0 defeat to newcomers Uzbekistan .', 69328, 'United_Arab_Emirates')\n",
      "('SOCCER - JAPAN GET LUCKY WIN , CHINA IN SURPRISE DEFEAT . Nadim Ladki AL-AIN , United Arab Emirates 1996-12-06 <a>Japan</a> began the defence of their Asian Cup title with a lucky 2-1 win against Syria in a Group C championship match on Friday . But China saw their luck desert them in the second match of the group , crashing to a surprise 2-0 defeat to newcomers Uzbekistan .', 993546, 'Japan_national_football_team')\n"
     ]
    }
   ],
   "source": [
    "lines = []\n",
    "file = test_files[0]\n",
    "print(file)\n",
    "\n",
    "with open(file, 'r') as infile:\n",
    "    for entry in tqdm(infile):\n",
    "        entry = json.loads(entry)\n",
    "        for span, title, id in zip(entry[\"index\"], entry['wikipedia_ids'], entry[\"wikipedia_titles\"]):\n",
    "            context = get_tagged_context(entry[\"text\"], span)\n",
    "            context = get_neighboring_sentences(context)\n",
    "            lines.append((context, title, id))\n",
    "\n",
    "print(len(lines))\n",
    "print(*lines[:5], sep=\"\\n\")"
   ]
  },
  {
   "cell_type": "code",
   "execution_count": 6,
   "metadata": {},
   "outputs": [],
   "source": [
    "prompt = \"\"\"Context: %s\n",
    "Instruction: Generate a JSON with schema`{\"candidates\": list[str]}` listing at most 5 Wikipedia articles the text inside the anchor tag could be referring to, ordered by confidence. \n",
    "\"\"\""
   ]
  },
  {
   "cell_type": "code",
   "execution_count": 7,
   "metadata": {},
   "outputs": [
    {
     "name": "stdout",
     "output_type": "stream",
     "text": [
      "Context: SOCCER - <a>JAPAN</a> GET LUCKY WIN , CHINA IN SURPRISE DEFEAT . Nadim Ladki AL-AIN , United Arab Emirates 1996-12-06 Japan began the defence of their Asian Cup title with a lucky 2-1 win against Syria in a Group C championship match on Friday .\n",
      "Instruction: Generate a JSON with schema`{\"candidates\": list[str]}` listing at most 5 Wikipedia articles the text inside the anchor tag could be referring to, ordered by confidence. \n",
      "\n"
     ]
    }
   ],
   "source": [
    "idx = 0\n",
    "context, _, target = lines[idx]\n",
    "print(prompt % context)"
   ]
  },
  {
   "cell_type": "code",
   "execution_count": null,
   "metadata": {},
   "outputs": [],
   "source": [
    "start_idx = 0\n",
    "missing = []\n",
    "outfile = \"../evaluation/parametric-gpt-3/responses-\" + file.name.split(\"_\")[-1]"
   ]
  },
  {
   "cell_type": "code",
   "execution_count": null,
   "metadata": {},
   "outputs": [],
   "source": [
    "with open(outfile, \"a\") as f:\n",
    "    for idx, (context, id, title) in tqdm(enumerate(lines), total=len(lines)):\n",
    "        if idx < start_idx:\n",
    "            continue\n",
    "        try:\n",
    "            response = openai.Completion.create(\n",
    "                    model=\"text-davinci-003\", \n",
    "                    prompt=prompt%context,\n",
    "                    temperature=0,\n",
    "                    max_tokens=1024,\n",
    "                    top_p=1,\n",
    "                )\n",
    "        except openai.error.APIError as e:\n",
    "            missing.append(idx)\n",
    "            print(f\"OpenAI API returned an API Error: {e}\")\n",
    "            pass\n",
    "        else:\n",
    "            entry = {\n",
    "                \"context\": context, \n",
    "                \"id\": id, \n",
    "                \"title\": title, \n",
    "                \"response\": response.choices[0].text\n",
    "            }\n",
    "            \n",
    "            json.dump(entry, f)\n",
    "            f.write(\"\\n\")\n",
    "            print(\"Index   :\", idx)\n",
    "            print(\"Context :\", context)\n",
    "            print(\"title   :\", title)\n",
    "            print(\"response:\", response.choices[0].text)\n",
    "            print(\"-\" * 50)\n",
    "        "
   ]
  }
 ],
 "metadata": {
  "kernelspec": {
   "display_name": "enokee",
   "language": "python",
   "name": "python3"
  },
  "language_info": {
   "codemirror_mode": {
    "name": "ipython",
    "version": 3
   },
   "file_extension": ".py",
   "mimetype": "text/x-python",
   "name": "python",
   "nbconvert_exporter": "python",
   "pygments_lexer": "ipython3",
   "version": "3.11.3"
  },
  "orig_nbformat": 4
 },
 "nbformat": 4,
 "nbformat_minor": 2
}
