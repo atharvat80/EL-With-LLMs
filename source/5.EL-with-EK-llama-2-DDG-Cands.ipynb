{
 "cells": [
  {
   "cell_type": "code",
   "execution_count": 1,
   "id": "f2b11f42",
   "metadata": {
    "execution": {
     "iopub.execute_input": "2023-07-25T14:04:43.446023Z",
     "iopub.status.busy": "2023-07-25T14:04:43.445643Z",
     "iopub.status.idle": "2023-07-25T14:08:01.220581Z",
     "shell.execute_reply": "2023-07-25T14:08:01.219290Z"
    },
    "papermill": {
     "duration": 197.783701,
     "end_time": "2023-07-25T14:08:01.223276",
     "exception": false,
     "start_time": "2023-07-25T14:04:43.439575",
     "status": "completed"
    },
    "tags": []
   },
   "outputs": [],
   "source": [
    "%%capture\n",
    "!export GITHUB_ACTIONS=true\n",
    "!pip install auto-gptq\n",
    "!pip install duckduckgo_search gdown"
   ]
  },
  {
   "cell_type": "markdown",
   "id": "4ab5e329",
   "metadata": {
    "papermill": {
     "duration": 0.004031,
     "end_time": "2023-07-25T14:08:01.232517",
     "exception": false,
     "start_time": "2023-07-25T14:08:01.228486",
     "status": "completed"
    },
    "tags": []
   },
   "source": [
    "# Load Model"
   ]
  },
  {
   "cell_type": "code",
   "execution_count": null,
   "id": "24d71691",
   "metadata": {
    "execution": {
     "iopub.execute_input": "2023-07-25T14:08:01.244140Z",
     "iopub.status.busy": "2023-07-25T14:08:01.242287Z",
     "iopub.status.idle": "2023-07-25T14:08:17.305898Z",
     "shell.execute_reply": "2023-07-25T14:08:17.304816Z"
    },
    "papermill": {
     "duration": 16.071695,
     "end_time": "2023-07-25T14:08:17.308357",
     "exception": false,
     "start_time": "2023-07-25T14:08:01.236662",
     "status": "completed"
    },
    "tags": []
   },
   "outputs": [],
   "source": [
    "from transformers import AutoTokenizer, pipeline, logging\n",
    "from auto_gptq import AutoGPTQForCausalLM, BaseQuantizeConfig\n",
    "\n",
    "model_name_or_path = \"TheBloke/Llama-2-13B-chat-GPTQ\"\n",
    "\n",
    "use_triton = False\n",
    "\n",
    "tokenizer = AutoTokenizer.from_pretrained(model_name_or_path, use_fast=True)"
   ]
  },
  {
   "cell_type": "code",
   "execution_count": null,
   "id": "d3a6fb38",
   "metadata": {
    "execution": {
     "iopub.execute_input": "2023-07-25T14:08:17.321094Z",
     "iopub.status.busy": "2023-07-25T14:08:17.320427Z",
     "iopub.status.idle": "2023-07-25T14:09:51.092966Z",
     "shell.execute_reply": "2023-07-25T14:09:51.091923Z"
    },
    "papermill": {
     "duration": 93.782319,
     "end_time": "2023-07-25T14:09:51.096402",
     "exception": false,
     "start_time": "2023-07-25T14:08:17.314083",
     "status": "completed"
    },
    "tags": []
   },
   "outputs": [],
   "source": [
    "model = AutoGPTQForCausalLM.from_quantized(\n",
    "    model_name_or_path,\n",
    "    revision=\"gptq-8bit-128g-actorder_False\",\n",
    "    use_safetensors=True,\n",
    "    trust_remote_code=True,\n",
    "    device_map=\"auto\",\n",
    "    use_triton=use_triton,\n",
    "    quantize_config=None\n",
    ")"
   ]
  },
  {
   "cell_type": "markdown",
   "id": "b9a00432",
   "metadata": {
    "papermill": {
     "duration": 0.005588,
     "end_time": "2023-07-25T14:09:51.108404",
     "exception": false,
     "start_time": "2023-07-25T14:09:51.102816",
     "status": "completed"
    },
    "tags": []
   },
   "source": [
    "# Setup Data"
   ]
  },
  {
   "cell_type": "code",
   "execution_count": 4,
   "id": "7c3f4046",
   "metadata": {
    "execution": {
     "iopub.execute_input": "2023-07-25T14:09:51.122781Z",
     "iopub.status.busy": "2023-07-25T14:09:51.121153Z",
     "iopub.status.idle": "2023-07-25T14:09:59.664552Z",
     "shell.execute_reply": "2023-07-25T14:09:59.663040Z"
    },
    "papermill": {
     "duration": 8.552913,
     "end_time": "2023-07-25T14:09:59.667138",
     "exception": false,
     "start_time": "2023-07-25T14:09:51.114225",
     "status": "completed"
    },
    "tags": []
   },
   "outputs": [],
   "source": [
    "%%capture\n",
    "!mkdir /kaggle/temp\n",
    "!mkdir /kaggle/temp/zelda-test\n",
    "!gdown -q -O /kaggle/temp/zelda-test.zip --fuzzy https://drive.google.com/file/d/1Qi19SfGoztNrEx8opQFd5kM1NIFdvxob/view?usp=sharing\n",
    "!unzip /kaggle/temp/zelda-test.zip -d /kaggle/temp/zelda-test"
   ]
  },
  {
   "cell_type": "code",
   "execution_count": 5,
   "id": "3443411a",
   "metadata": {
    "execution": {
     "iopub.execute_input": "2023-07-25T14:09:59.681737Z",
     "iopub.status.busy": "2023-07-25T14:09:59.680702Z",
     "iopub.status.idle": "2023-07-25T14:09:59.899477Z",
     "shell.execute_reply": "2023-07-25T14:09:59.898480Z"
    },
    "papermill": {
     "duration": 0.228269,
     "end_time": "2023-07-25T14:09:59.901845",
     "exception": false,
     "start_time": "2023-07-25T14:09:59.673576",
     "status": "completed"
    },
    "tags": []
   },
   "outputs": [],
   "source": [
    "import re\n",
    "import json\n",
    "import pickle\n",
    "from pathlib import Path\n",
    "from urllib.parse import unquote\n",
    "\n",
    "from duckduckgo_search import DDGS\n",
    "from tqdm.auto import tqdm"
   ]
  },
  {
   "cell_type": "code",
   "execution_count": 6,
   "id": "b8de778d",
   "metadata": {
    "execution": {
     "iopub.execute_input": "2023-07-25T14:09:59.916605Z",
     "iopub.status.busy": "2023-07-25T14:09:59.915667Z",
     "iopub.status.idle": "2023-07-25T14:09:59.926629Z",
     "shell.execute_reply": "2023-07-25T14:09:59.925761Z"
    },
    "papermill": {
     "duration": 0.019839,
     "end_time": "2023-07-25T14:09:59.928551",
     "exception": false,
     "start_time": "2023-07-25T14:09:59.908712",
     "status": "completed"
    },
    "tags": []
   },
   "outputs": [],
   "source": [
    "def ddg_answers(mention, num_res=20, desc_limit=300):\n",
    "    results = \"\"\n",
    "    urls = []\n",
    "    with DDGS() as ddgs:\n",
    "        for r in ddgs.answers(mention):\n",
    "            title = unquote(r['url'].split('/')[-1])\n",
    "            url = \"https://en.wikipedia.org/wiki/\" + title\n",
    "            if url in urls:\n",
    "                continue\n",
    "            results += f\"\\n{len(urls)+1}. {url} - {r['text'][:desc_limit]}\"\n",
    "            urls.append(url)\n",
    "            \n",
    "            if len(urls) == num_res:\n",
    "                break\n",
    "                \n",
    "    return results, urls\n",
    "\n",
    "\n",
    "def ddg_search(term, num_res=10, desc_limit=300):\n",
    "    results = \"results:\\n\"\n",
    "    urls = []\n",
    "\n",
    "    with DDGS() as ddgs:\n",
    "        for idx, r in enumerate(ddgs.text(f'{term} site:en.wikipedia.org', safesearch=\"Off\")):\n",
    "            results += f\"\\n{idx+1}. {r['href']} - {r['body'][:desc_limit]} ...\"\n",
    "            urls.append(r[\"href\"])\n",
    "            if len(urls) == num_res:\n",
    "                break\n",
    "        \n",
    "        return results, urls"
   ]
  },
  {
   "cell_type": "code",
   "execution_count": 7,
   "id": "13533187",
   "metadata": {
    "execution": {
     "iopub.execute_input": "2023-07-25T14:09:59.942210Z",
     "iopub.status.busy": "2023-07-25T14:09:59.941913Z",
     "iopub.status.idle": "2023-07-25T14:09:59.951636Z",
     "shell.execute_reply": "2023-07-25T14:09:59.950655Z"
    },
    "papermill": {
     "duration": 0.018444,
     "end_time": "2023-07-25T14:09:59.953615",
     "exception": false,
     "start_time": "2023-07-25T14:09:59.935171",
     "status": "completed"
    },
    "tags": []
   },
   "outputs": [],
   "source": [
    "def get_mention_idx(sentences):\n",
    "    for idx, s in enumerate(sentences):\n",
    "        if \"<a>\" in s:\n",
    "            return idx\n",
    "\n",
    "def get_neighboring_sentences(text, n = 1):\n",
    "    sentences = re.split(r'(?<=[.!?])\\s+', text)  # Split the text into sentences\n",
    "    idx = get_mention_idx(sentences)\n",
    "    start, end = max(idx - n, 0), idx + n + 1\n",
    "    return \" \".join(sentences[start:end])\n",
    "\n",
    "def get_tagged_context(text, span):\n",
    "    s, e = span\n",
    "    text = text[:s] + \"<a>\" + text[s:e] + \"</a>\" + text[e:]\n",
    "    return text\n",
    "\n",
    "def propocess_data(file):\n",
    "    lines = []\n",
    "    with open(file, 'r') as handle:\n",
    "        for entry in handle:\n",
    "            entry = json.loads(entry)\n",
    "            for span, title in zip(entry[\"index\"], entry[\"wikipedia_titles\"]):\n",
    "                start, end = span\n",
    "                context = get_tagged_context(entry[\"text\"], span)\n",
    "                context = get_neighboring_sentences(context, 2)\n",
    "                lines.append((context, entry[\"text\"][start:end], title))\n",
    "\n",
    "    return lines"
   ]
  },
  {
   "cell_type": "code",
   "execution_count": 8,
   "id": "b113cade",
   "metadata": {
    "execution": {
     "iopub.execute_input": "2023-07-25T14:09:59.966880Z",
     "iopub.status.busy": "2023-07-25T14:09:59.966140Z",
     "iopub.status.idle": "2023-07-25T14:09:59.974517Z",
     "shell.execute_reply": "2023-07-25T14:09:59.973540Z"
    },
    "papermill": {
     "duration": 0.017394,
     "end_time": "2023-07-25T14:09:59.976799",
     "exception": false,
     "start_time": "2023-07-25T14:09:59.959405",
     "status": "completed"
    },
    "tags": []
   },
   "outputs": [
    {
     "data": {
      "text/plain": [
       "[PosixPath('/kaggle/temp/zelda-test/test_cweb.jsonl'),\n",
       " PosixPath('/kaggle/temp/zelda-test/test_shadowlinks-shadow.jsonl'),\n",
       " PosixPath('/kaggle/temp/zelda-test/test_shadowlinks-tail.jsonl'),\n",
       " PosixPath('/kaggle/temp/zelda-test/test_tweeki.jsonl'),\n",
       " PosixPath('/kaggle/temp/zelda-test/test_wned-wiki.jsonl'),\n",
       " PosixPath('/kaggle/temp/zelda-test/test_reddit-comments.jsonl'),\n",
       " PosixPath('/kaggle/temp/zelda-test/test_aida-b.jsonl'),\n",
       " PosixPath('/kaggle/temp/zelda-test/test_shadowlinks-top.jsonl'),\n",
       " PosixPath('/kaggle/temp/zelda-test/test_reddit-posts.jsonl')]"
      ]
     },
     "execution_count": 8,
     "metadata": {},
     "output_type": "execute_result"
    }
   ],
   "source": [
    "# load test files\n",
    "test_files = [file for file in Path(\"/kaggle/temp/zelda-test\").iterdir() if file.name.endswith(\".jsonl\")]\n",
    "test_files"
   ]
  },
  {
   "cell_type": "code",
   "execution_count": 9,
   "id": "82d99768",
   "metadata": {
    "execution": {
     "iopub.execute_input": "2023-07-25T14:09:59.990075Z",
     "iopub.status.busy": "2023-07-25T14:09:59.989341Z",
     "iopub.status.idle": "2023-07-25T14:09:59.998482Z",
     "shell.execute_reply": "2023-07-25T14:09:59.997624Z"
    },
    "papermill": {
     "duration": 0.018164,
     "end_time": "2023-07-25T14:10:00.000730",
     "exception": false,
     "start_time": "2023-07-25T14:09:59.982566",
     "status": "completed"
    },
    "tags": []
   },
   "outputs": [],
   "source": [
    "prompt_template = '''<s>[INST] <<SYS>>\n",
    "You are a helpful, respectful and honest assistant.\n",
    "<</SYS>>\n",
    "\n",
    "In the following context\n",
    "\n",
    "<context>%s</context>\n",
    "\n",
    "Determine which of the following is the referent Wikipedia article of the text inside the anchor tag:\n",
    "%s\n",
    "\n",
    "provide your answer as <answer>Wikipedia URL</answer>[/INST] <answer>https://en.wikipedia.org/wiki/'''\n",
    "\n",
    "\n",
    "# putting it all together\n",
    "def disambiguate(context, mention, temp=0.1, top_p=0.3, max_new_t=125, debug=False):\n",
    "    def extract_answer(text):\n",
    "        start = text.rfind(\"<answer>\")\n",
    "        end = text.rfind(\"</answer>\")\n",
    "        return text[start+8:end]\n",
    "    \n",
    "    # generate candidates\n",
    "    candidates, urls = ddg_search(mention)\n",
    "    if urls == []:\n",
    "        return None, None\n",
    "    \n",
    "    # generate answer\n",
    "    prompt = prompt_template % (context.strip(), candidates)\n",
    "    input_ids = tokenizer(prompt, return_tensors='pt').input_ids.cuda()\n",
    "    output = model.generate(inputs=input_ids, temperature=temp, top_p=top_p, max_new_tokens=max_new_t)\n",
    "    output = tokenizer.decode(output[0])\n",
    "    if debug:\n",
    "        print(output)\n",
    "    \n",
    "    answer = extract_answer(output)\n",
    "    output = output.split(\"[/INST]\")[-1].strip()\n",
    "    return answer, urls, output"
   ]
  },
  {
   "cell_type": "code",
   "execution_count": 10,
   "id": "a92526ee",
   "metadata": {
    "execution": {
     "iopub.execute_input": "2023-07-25T14:10:00.014171Z",
     "iopub.status.busy": "2023-07-25T14:10:00.013415Z",
     "iopub.status.idle": "2023-07-25T14:10:00.443448Z",
     "shell.execute_reply": "2023-07-25T14:10:00.442446Z"
    },
    "papermill": {
     "duration": 0.439489,
     "end_time": "2023-07-25T14:10:00.446045",
     "exception": false,
     "start_time": "2023-07-25T14:10:00.006556",
     "status": "completed"
    },
    "tags": []
   },
   "outputs": [],
   "source": [
    "file = test_files[6]\n",
    "lines = propocess_data(file)\n",
    "\n",
    "start_idx = 0\n",
    "missing = []\n",
    "outfile = \"/kaggle/working/\" + file.name.split(\"_\")[-1]"
   ]
  },
  {
   "cell_type": "code",
   "execution_count": 11,
   "id": "4d44bd4c",
   "metadata": {
    "execution": {
     "iopub.execute_input": "2023-07-25T14:10:00.459891Z",
     "iopub.status.busy": "2023-07-25T14:10:00.459596Z",
     "iopub.status.idle": "2023-07-25T14:10:00.463551Z",
     "shell.execute_reply": "2023-07-25T14:10:00.462595Z"
    },
    "papermill": {
     "duration": 0.013172,
     "end_time": "2023-07-25T14:10:00.465547",
     "exception": false,
     "start_time": "2023-07-25T14:10:00.452375",
     "status": "completed"
    },
    "tags": []
   },
   "outputs": [],
   "source": [
    "# idx = 7\n",
    "# context, mention, target = lines[idx]\n",
    "# answer, urls, output = disambiguate(context, mention)\n",
    "# target, answer, output"
   ]
  },
  {
   "cell_type": "code",
   "execution_count": null,
   "id": "58c30116",
   "metadata": {
    "execution": {
     "iopub.execute_input": "2023-07-25T14:10:00.478871Z",
     "iopub.status.busy": "2023-07-25T14:10:00.478056Z"
    },
    "papermill": {
     "duration": null,
     "end_time": null,
     "exception": false,
     "start_time": "2023-07-25T14:10:00.471417",
     "status": "running"
    },
    "tags": []
   },
   "outputs": [],
   "source": [
    "with open(outfile, \"w\") as f:\n",
    "    for idx, (context, mention, title) in tqdm(enumerate(lines), total=len(lines)):\n",
    "        \n",
    "        if idx < start_idx:\n",
    "            continue\n",
    "        \n",
    "        title = \"https://en.wikipedia.org/wiki/\" + title.replace(\" \", \"_\")\n",
    "\n",
    "        try:\n",
    "            result, candidates, output = disambiguate(context, mention)\n",
    "        except Exception as e:\n",
    "            missing.append(idx)\n",
    "            print(\"Error getting\", idx, e)\n",
    "        else :\n",
    "            if result is not None:\n",
    "                entry = {\n",
    "                    \"context\": context, \n",
    "                    \"target\": title,\n",
    "                    \"result\": result,\n",
    "                    \"output\": output,\n",
    "                    \"candidates\": candidates,\n",
    "                }\n",
    "            \n",
    "            json.dump(entry, f)\n",
    "            f.write(\"\\n\")\n",
    "            print(\"Index  :\", idx)\n",
    "            print(\"Target :\", title)\n",
    "            print(\"Result :\", result)\n",
    "            print(\"Output :\", output)\n",
    "        \n",
    "        print(\"-\" * 50)\n",
    "        start_idx += 1"
   ]
  }
 ],
 "metadata": {
  "kernelspec": {
   "display_name": "Python 3",
   "language": "python",
   "name": "python3"
  },
  "language_info": {
   "codemirror_mode": {
    "name": "ipython",
    "version": 3
   },
   "file_extension": ".py",
   "mimetype": "text/x-python",
   "name": "python",
   "nbconvert_exporter": "python",
   "pygments_lexer": "ipython3",
   "version": "3.6.4"
  },
  "papermill": {
   "default_parameters": {},
   "duration": null,
   "end_time": null,
   "environment_variables": {},
   "exception": null,
   "input_path": "__notebook__.ipynb",
   "output_path": "__notebook__.ipynb",
   "parameters": {},
   "start_time": "2023-07-25T14:04:32.959711",
   "version": "2.4.0"
  }
 },
 "nbformat": 4,
 "nbformat_minor": 5
}
