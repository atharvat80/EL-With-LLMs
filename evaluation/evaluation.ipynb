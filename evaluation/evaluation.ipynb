{
 "cells": [
  {
   "cell_type": "code",
   "execution_count": 1,
   "metadata": {},
   "outputs": [],
   "source": [
    "import json\n",
    "import requests\n",
    "from pathlib import Path\n",
    "from tqdm.auto import tqdm\n",
    "from urllib.parse import unquote\n",
    "from IPython.display import display, Markdown\n",
    "from utils import is_same_page, get_unique_lines, get_markdown_table"
   ]
  },
  {
   "cell_type": "code",
   "execution_count": 2,
   "metadata": {},
   "outputs": [],
   "source": [
    "num_lines = {\n",
    "    'aida-b': 4485,\n",
    "    'cweb': 11116,\n",
    "    'reddit-comments': 638,\n",
    "    'reddit-posts': 704,\n",
    "    'shadowlinks-shadow': 904,\n",
    "    'shadowlinks-tail': 901,\n",
    "    'shadowlinks-top': 904,\n",
    "    'tweeki': 860,\n",
    "    'wned-wiki': 6765\n",
    "}"
   ]
  },
  {
   "cell_type": "code",
   "execution_count": 3,
   "metadata": {},
   "outputs": [
    {
     "data": {
      "application/vnd.jupyter.widget-view+json": {
       "model_id": "c67dd87392644026817b6dc05bf6184d",
       "version_major": 2,
       "version_minor": 0
      },
      "text/plain": [
       "  0%|          | 0/8 [00:00<?, ?it/s]"
      ]
     },
     "metadata": {},
     "output_type": "display_data"
    },
    {
     "data": {
      "text/markdown": [
       "|    |AIDA-B | TWEEKI | REDDIT-POSTS | REDDIT-COMM. | WNED-WIKI | SLINKS-TAIL | SLINKS-SHADOW | SLINKS-TOP |\n",
       "|-----|-----|-----|-----|-----|-----|-----|-----|-----|\n",
       "| CL-Recall | 0.873 | 0.905 | 0.974 | 0.967 | 0.98 | 0.915 | 0.537 | 0.704 |\n",
       "| Accuracy | 0.609 | 0.66 | 0.764 | 0.685 | 0.606 | 0.912 | 0.253 | 0.459 |\n",
       "| Accuracy (Disamb.) | 0.581 | 0.637 | 0.734 | 0.658 | 0.446 | 0.875 | 0.434 | 0.601 |\n"
      ],
      "text/plain": [
       "<IPython.core.display.Markdown object>"
      ]
     },
     "metadata": {},
     "output_type": "display_data"
    },
    {
     "data": {
      "application/vnd.jupyter.widget-view+json": {
       "model_id": "9078874bedbe419182e7bcba9baff7db",
       "version_major": 2,
       "version_minor": 0
      },
      "text/plain": [
       "  0%|          | 0/8 [00:00<?, ?it/s]"
      ]
     },
     "metadata": {},
     "output_type": "display_data"
    },
    {
     "data": {
      "text/markdown": [
       "|    |AIDA-B | TWEEKI | REDDIT-POSTS | REDDIT-COMM. | WNED-WIKI | SLINKS-TAIL | SLINKS-SHADOW | SLINKS-TOP |\n",
       "|-----|-----|-----|-----|-----|-----|-----|-----|-----|\n",
       "| CL-Recall | 0.825 | 0.923 | 0.973 | 0.973 | 0.715 | 0.989 | 0.614 | 0.816 |\n",
       "| Accuracy | 0.682 | 0.801 | 0.891 | 0.922 | 0.626 | 0.963 | 0.365 | 0.615 |\n",
       "| Accuracy (Disamb.) | 0.826 | 0.868 | 0.915 | 0.947 | 0.876 | 0.974 | 0.595 | 0.753 |\n"
      ],
      "text/plain": [
       "<IPython.core.display.Markdown object>"
      ]
     },
     "metadata": {},
     "output_type": "display_data"
    },
    {
     "data": {
      "application/vnd.jupyter.widget-view+json": {
       "model_id": "30cd8745999b491f90fed57e9dee238a",
       "version_major": 2,
       "version_minor": 0
      },
      "text/plain": [
       "  0%|          | 0/8 [00:00<?, ?it/s]"
      ]
     },
     "metadata": {},
     "output_type": "display_data"
    },
    {
     "data": {
      "text/markdown": [
       "|    |AIDA-B | TWEEKI | REDDIT-POSTS | REDDIT-COMM. | WNED-WIKI | SLINKS-TAIL | SLINKS-SHADOW | SLINKS-TOP |\n",
       "|-----|-----|-----|-----|-----|-----|-----|-----|-----|\n",
       "| CL-Recall | 0.824 | 0.893 | 0.964 | 0.964 | 0.878 | 0.917 | 0.532 | 0.705 |\n",
       "| Accuracy | 0.73 | 0.762 | 0.866 | 0.859 | 0.766 | 0.915 | 0.417 | 0.626 |\n",
       "| Accuracy (Disamb.) | 0.847 | 0.801 | 0.875 | 0.876 | 0.805 | 0.889 | 0.768 | 0.872 |\n"
      ],
      "text/plain": [
       "<IPython.core.display.Markdown object>"
      ]
     },
     "metadata": {},
     "output_type": "display_data"
    },
    {
     "data": {
      "application/vnd.jupyter.widget-view+json": {
       "model_id": "ff0ad7240aca4c4894e2c2467722731b",
       "version_major": 2,
       "version_minor": 0
      },
      "text/plain": [
       "  0%|          | 0/8 [00:00<?, ?it/s]"
      ]
     },
     "metadata": {},
     "output_type": "display_data"
    },
    {
     "data": {
      "text/markdown": [
       "|    |AIDA-B | TWEEKI | REDDIT-POSTS | REDDIT-COMM. | WNED-WIKI | SLINKS-TAIL | SLINKS-SHADOW | SLINKS-TOP |\n",
       "|-----|-----|-----|-----|-----|-----|-----|-----|-----|\n",
       "| CL-Recall | 0.835 | 0.916 | 0.983 | 0.973 | 0.737 | 0.993 | 0.632 | 0.812 |\n",
       "| Accuracy | 0.659 | 0.763 | 0.818 | 0.848 | 0.577 | 0.947 | 0.273 | 0.562 |\n",
       "| Accuracy (Disamb.) | 0.789 | 0.832 | 0.832 | 0.871 | 0.783 | 0.953 | 0.433 | 0.692 |\n"
      ],
      "text/plain": [
       "<IPython.core.display.Markdown object>"
      ]
     },
     "metadata": {},
     "output_type": "display_data"
    }
   ],
   "source": [
    "results_file = open(\"results.md\", \"w\")\n",
    "\n",
    "for folder in [\"parametric-llama-2\", \"el-with-ek-gpt35-ddg\", \"el-with-ek-gpt35-zelda\", \"el-with-ek-llama-2-ddg\"]:\n",
    "    outfile = open(\"incorrect-links/\" + folder + \".jsonl\", \"w\")\n",
    "    files = [f for f in Path(folder).iterdir() if f.name.endswith(\"jsonl\")]\n",
    "    results = {}\n",
    "    \n",
    "    for file in tqdm(files):\n",
    "        with open(file, \"r\") as f:\n",
    "            dataset = file.name.split(\"-\", 1)[-1][:-6]\n",
    "            lines = get_unique_lines(file)\n",
    "            correct = 0\n",
    "            correct_disamb = 0\n",
    "            target_present = 0\n",
    "            target_present_multi = 0\n",
    "            total = num_lines[dataset]\n",
    "            session = requests.session()\n",
    "            \n",
    "            for idx, line in enumerate(lines):\n",
    "                target = line[\"title\"].lower()\n",
    "                result = unquote(line[\"result\"].lower())\n",
    "                if not result.startswith(\"https://\"):\n",
    "                    result = \"https://en.wikipedia.org/wiki/\" + result.replace(\" \", \"_\")\n",
    "\n",
    "                candidates = []\n",
    "                for candidate in line[\"candidates\"]:\n",
    "                    if not candidate.startswith(\"https://\"):\n",
    "                        candidate = \"https://en.wikipedia.org/wiki/\" + candidate.replace(\" \", \"_\")\n",
    "                    candidates.append(unquote(candidate).lower())\n",
    "\n",
    "                # count if target in candidates for CL-Recall\n",
    "                if target not in candidates:\n",
    "                    continue\n",
    "                \n",
    "                target_present += 1\n",
    "                if len(candidates) > 1:\n",
    "                    target_present_multi += 1\n",
    "                \n",
    "                # check if target is the result\n",
    "                if result == target or is_same_page(line[\"result\"][30:], line[\"title\"][30:], session):\n",
    "                    correct += 1\n",
    "                    if len(candidates) > 1:\n",
    "                        correct_disamb += 1\n",
    "\n",
    "                # else record it as incorrect link\n",
    "                else:\n",
    "                    outfile.write(json.dumps(\n",
    "                        {\n",
    "                            \"dataset\": dataset,\n",
    "                            \"context\": line[\"context\"].replace(\"\\n\", ' '), \n",
    "                            \"target\": target,\n",
    "                            \"result\": result, \n",
    "                            \"candidates\": candidates,\n",
    "                        }))\n",
    "                    outfile.write(\"\\n\")\n",
    "\n",
    "            results[dataset] = {\n",
    "                \"Accuracy\" : round(correct/total, 3),\n",
    "                \"Accuracy (Disamb.)\": round(correct_disamb/target_present_multi, 3),\n",
    "                \"CL-Recall\": round(target_present/total, 3)\n",
    "            }\n",
    "\n",
    "            session.close()\n",
    "\n",
    "    table = get_markdown_table(results)\n",
    "    display(Markdown(table))\n",
    "    outfile.close()\n",
    "    results_file.write(\"# \" + folder + \"\\n\" + table + \"\\n\\n\")\n",
    "\n",
    "results_file.close()"
   ]
  }
 ],
 "metadata": {
  "kernelspec": {
   "display_name": "openai",
   "language": "python",
   "name": "python3"
  },
  "language_info": {
   "codemirror_mode": {
    "name": "ipython",
    "version": 3
   },
   "file_extension": ".py",
   "mimetype": "text/x-python",
   "name": "python",
   "nbconvert_exporter": "python",
   "pygments_lexer": "ipython3",
   "version": "3.11.3"
  },
  "orig_nbformat": 4
 },
 "nbformat": 4,
 "nbformat_minor": 2
}
